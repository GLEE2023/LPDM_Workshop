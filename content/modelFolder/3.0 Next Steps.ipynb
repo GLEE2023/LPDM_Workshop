{
 "cells": [
  {
   "cell_type": "markdown",
   "metadata": {},
   "source": [
    "# `3.0 Next Steps 👣`\n",
    "\n",
    "## <span style=\"color:tomato\"> Status of the LPDM </span>\n",
    "\n",
    "Recall from the introduction what factors may influence future changes in the LPDM: \n",
    "- <span style=\"color:orange\"> Sensors </span>: The sensors and components explored in the LPDM are subject to change as GLEE approaches a finalized lunar version of the LunaSat. The data and power usage will change accordingly.\n",
    "- <span style=\"color:orange\"> Actual vs Experimental Values</span>: The LPDM uses physical characteristics and quantities as given by the manufacturers of the components to predict their power and data usage. Not all of these values have been verified experimentally, and so the actual power / data usage of LunaSat configurations may be slightly different than what is modeled in these notebooks.\n",
    "- <span style=\"color:orange\"> Sampling Rates</span>: You found in the later notebooks of the LPDM that there were constraints on how often you can collect data with your sensors. These constraints are determined by the storage available on LunaSats, our RF capabilities, and restrictions imposed by our lander provider. Since these factors are not yet finalized, the data rate (and by extension the sampling rates of individual sensors) may be increased or decreased in the future. \n",
    "- <span style=\"color:orange\"> Available Power</span>: You explored in notebook 1.5 how available power is affected by a landing location on the Moon. Since the landing location hasn't been finalized yet, the available power is not yet known. This will affect what components can be active together on the LunaSat at a particular time.\n",
    "\n",
    "## <span style=\"color:tomato\"> What's Next </span>\n",
    "\n",
    "In the previous notebook, you created a dataset containing bitstrings and other information that can be used to configure the LunaSat. When the LunaSats and their flight code are finalized, we will ask you to recomplete the LPDM (if major changes are made by that point). You will generate a finalized dataset that you can send to us in a text file that we will then put into our code.\n",
    "\n",
    "## <span style=\"color:tomato\"> What Can I Do In The Meantime? </span>\n",
    "\n",
    "Through these notebooks, you created a dataset that GLEE intends to pass into the flight code to configure the LunaSats. You may be wondering if you will be able to write code for the LunaSats, rather than just create configurations. GLEE has ultimately decided to only allow teams to create configurations that meet mission constraints for the following reasons: \n",
    "- <span style=\"color:orange\">Compatibility and Risks</span>: LunaSats will be expected to collect data consistent with lunar science use cases while also working together as a network. LunaSats will need to communicate with an RF system on the lander, and they may need to communicate directly with each other, in order to transmit data, receive data, synchronize clocks (timestamps), forward packets, and switch configurations. This means that all LunaSats must follow the same RF protocols and algorithms. Allowing teams to explore writing special algorithms for RF or data sampling would allow for a meaningful opportunity to learn how to develop flight code, but it presents too many risks to the mission. A LunaSat with custom code might fail to receive critical packets from other LunaSats or the lander, or it may improperly send data in an unreadable format such that data is lost.\n",
    "- <span style=\"color:orange\">Memory</span>: LunaSats are limited in their memory and storage. Microcontrollers can store the code itself along with variables used in the code, while the EEPROM module can store data that is explicitly written to it. We anticipate the flight code consuming the vast majority of the microcontrollers' memory. Depending on mission mass/volume constraints (which are still variable), we may not have a one-to-one ratio for LunaSats and teams, meaning some teams may use the same LunaSat as other teams. There may not be enough space to put more than one script on a LunaSat at a time, so having multiple custom scripts from separate teams on the same LunaSat may ultimately not be possible.\n",
    "- <span style=\"color:orange\">Resources</span>: The LPDM is designed to guide teams to create configurations that meet available power and data requirements. GLEE would have to verify that all custom scripts work individually and with each other before using them in the mission. Our team unfortunately does not have the time and staff resources to do this.\n",
    "\n",
    "If you and your team would like to suggest techniques or algorithms that you feel should be included in the mission flight code, you are welcome to send these ideas to us via email."
   ]
  },
  {
   "cell_type": "markdown",
   "metadata": {
    "tags": []
   },
   "source": [
    "#### We hope that this project has been as valuable to you as it has been for us. If you have any questions, feel free to reach out to us."
   ]
  },
  {
   "cell_type": "markdown",
   "metadata": {},
   "source": [
    "#### [GLEE's Website](glee2023.org)"
   ]
  }
 ],
 "metadata": {
  "kernelspec": {
   "display_name": "Python 3 (ipykernel)",
   "language": "python",
   "name": "python3"
  },
  "language_info": {
   "codemirror_mode": {
    "name": "ipython",
    "version": 3
   },
   "file_extension": ".py",
   "mimetype": "text/x-python",
   "name": "python",
   "nbconvert_exporter": "python",
   "pygments_lexer": "ipython3",
   "version": "3.8.5"
  },
  "vscode": {
   "interpreter": {
    "hash": "369f2c481f4da34e4445cda3fffd2e751bd1c4d706f27375911949ba6bb62e1c"
   }
  }
 },
 "nbformat": 4,
 "nbformat_minor": 4
}

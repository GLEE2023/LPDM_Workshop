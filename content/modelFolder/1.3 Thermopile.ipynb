{
 "cells": [
  {
   "cell_type": "markdown",
   "metadata": {},
   "source": [
    "# `1.3 Thermopile Configurations 🔥`\n",
    "\n",
    "## <span style=\"color:tomato\"> Overview </span>\n",
    "\n",
    "The TPIS1S1385 is a compact, low-power thermopile for temperature measurement of remote objects. It is not reconfigurable as it operates passively in response to temperature differences without an active control mechanism, so we will simply plot out its constant power and data usage when a temperature difference is detected.\n",
    "\n",
    "---\n",
    "\n",
    "## <span style=\"color:tomato\"> Configurations </span>\n",
    "\n",
    "The sensor has a single configuration, \"TP_ON\", indicating its active state, and although there is no explicit \"TP_OFF\" configuration, it is included to demonstrate no power and data usage when the sensor is not actively used. The \"TP_ON\" state is a continuous state, meaning that once the thermopile is turned on, it cannot be turned off. Thus trying to set the mode to \"TP_OFF\" after \"TP_ON\" is not possible.\n",
    "\n",
    "The possible modes are <span style=\"color:orange\">\"TP_OFF\"</span> and <span style=\"color:orange\">\"TP_ON\"</span>. No other modes or parameters are available.\n",
    "\n",
    "---\n"
   ]
  },
  {
   "cell_type": "markdown",
   "metadata": {},
   "source": [
    "## <span style=\"color:tomato\"> Creating Configurations </span>\n",
    "\n",
    "In a later section, we will generate a power and data usage model for the entire LunaSat, including the sensor's configuration, which will be incorporated into the flight code to appropriately set up sensors for the mission.\n",
    "\n",
    "You should also choose how long the sensor will spend in that configuration (duration, in seconds) and how fast the TPIS1S1385 sensor should retrieve samples (in seconds between samples).\n",
    "- <span style=\"color:orange\">**Configuration duration (s)**</span>: {n} \n",
    "- <span style=\"color:orange\">**Sampling rate (s)**</span>: {n}\n",
    "    - The time it takes for the sensor to retrieve a sample is 0.5 ms. Thus the sampling rate can be no smaller than 0.0005.\n",
    "    \n",
    "<span style=\"color:#18BF7D\">For the following code, replace 'None' with appropriate values based on what you have learned above. Any lines without a 'None' should not be modified. Changing the values of the variables allows you to adjust a configuration consisting of a collection of these variables. At the end of the code, these configurations, in addition to their durations and the sampling rates, are put together in a list.</span>"
   ]
  },
  {
   "cell_type": "code",
   "execution_count": 11,
   "metadata": {},
   "outputs": [],
   "source": [
    "import micropip\n",
    "await micropip.install(\"matplotlib\")\n",
    "import matplotlib.pyplot as plt\n",
    "await micropip.install(\"numpy\")\n",
    "import numpy as np\n",
    "from source.TPIS1S1385 import TPIS1S1385\n",
    "# Example parameters\n",
    "\n",
    "mode = \"TP_ON\"\n",
    "example_configuration = (mode) # Parentheses are used to group variables together in a 'tuple', a data type in Python \n",
    "duration = 10\n",
    "sampling_rate = 10\n",
    "\n",
    "# Try creating 3 distinct configurations below by replacing None with appropriate values\n",
    "mode_1 = None\n",
    "configuration_1 = (mode_1)\n",
    "duration_1 = None\n",
    "sampling_rate_1 = None\n",
    "\n",
    "\n",
    "mode_2 = None\n",
    "configuration_2 = (mode_2)\n",
    "duration_2 = None\n",
    "sampling_rate_2 = None\n",
    "\n",
    "\n",
    "mode_3 = None\n",
    "configuration_3 = (mode_3)\n",
    "duration_3 = None\n",
    "sampling_rate_3 = None\n",
    "\n",
    "\n",
    "# Below, we group together the configuration tuple with a duration and sampling rate in another tuple\n",
    "# These tuples are added to a list called modes_Thermo\n",
    "modes_Thermo = [(configuration_1,duration_1, sampling_rate_1), (configuration_2, duration_2, sampling_rate_2), (configuration_3, duration_3, sampling_rate_3)]"
   ]
  },
  {
   "cell_type": "markdown",
   "metadata": {},
   "source": [
    "## <span style=\"color:tomato\"> Calculating Power Usage </span>\n",
    "\n",
    "We can calculate the power usage based on the configuration to get an idea of how it's affected by the various settings. Power is measured in milliWatts, where 1 milliWatt is equivalent to 0.001 Joules of energy per second. \n",
    "\n",
    "\n",
    "<span style=\"color:#18BF7D\">Do not modify the following code. Simply run the cell to see the output.</span>"
   ]
  },
  {
   "cell_type": "code",
   "execution_count": null,
   "metadata": {},
   "outputs": [],
   "source": [
    "power_1 = TPIS1S1385.get_mode_power(TPIS1S1385,configuration_1, sampling_rate_1)\n",
    "power_2 = TPIS1S1385.get_mode_power(TPIS1S1385,configuration_2, sampling_rate_2)\n",
    "power_3 = TPIS1S1385.get_mode_power(TPIS1S1385,configuration_3, sampling_rate_3)\n",
    "print(\"Config. 1: \", power_1, \"milliWatts\")\n",
    "print(\"Config. 2: \", power_2, \"milliWatts\")\n",
    "print(\"Config. 3: \", power_3, \"milliWatts\")\n",
    "plt.bar(1, power_1, label='Config. 1')\n",
    "plt.bar(2, power_2, label='Config. 2')\n",
    "plt.bar(3, power_3, label='Config. 3')\n",
    "plt.xticks([])\n",
    "plt.ylabel('Power in mW')\n",
    "plt.grid()\n",
    "plt.legend()\n",
    "plt.show()"
   ]
  },
  {
   "cell_type": "markdown",
   "metadata": {},
   "source": [
    "## <span style=\"color:tomato\"> Calculating Data Usage </span>\n",
    "\n",
    "We can calculate the data usage for the configuration set above. It's important to note that we are concerned with the data usage based on the sampling rate.\n",
    "\n",
    "The time_step is the distance between data values in the plot, and the total duration is how long the sensor is active for in the model.\n",
    "\n",
    "<span style=\"color:#18BF7D\">Do not modify the following code. Simply run the cell to see the output.</span>"
   ]
  },
  {
   "cell_type": "code",
   "execution_count": null,
   "metadata": {},
   "outputs": [],
   "source": [
    "time_step = 1\n",
    "total_duration = duration_1 + duration_2 + duration_3\n",
    "tp = TPIS1S1385(time_step, total_duration, modes_Thermo, loop_rate=20)"
   ]
  },
  {
   "cell_type": "code",
   "execution_count": null,
   "metadata": {},
   "outputs": [],
   "source": [
    "data_1 = tp.get_bytes_per_second(configuration_1, sampling_rate_1)\n",
    "data_2 = tp.get_bytes_per_second(configuration_2, sampling_rate_2)\n",
    "data_3 = tp.get_bytes_per_second(configuration_3, sampling_rate_3)\n",
    "print(\"Config. 1: \", data_1, \"bytes per second\")\n",
    "print(\"Config. 2: \", data_2, \"bytes per second\")\n",
    "print(\"Config. 3: \", data_3, \"bytes per second\")\n",
    "plt.bar(1, data_1, label='Config. 1')\n",
    "plt.bar(2, data_2, label='Config. 2')\n",
    "plt.bar(3, data_3, label='Config. 3')\n",
    "plt.xticks([])\n",
    "plt.ylabel('Bytes/s')\n",
    "plt.grid()\n",
    "plt.legend()\n",
    "plt.show()"
   ]
  },
  {
   "cell_type": "markdown",
   "metadata": {},
   "source": [
    "## <span style=\"color:tomato\"> Putting It All Together </span>\n",
    "\n",
    "Finally, we'll take a look at the power and data usage of all of our configurations together. "
   ]
  },
  {
   "cell_type": "code",
   "execution_count": null,
   "metadata": {},
   "outputs": [],
   "source": [
    "tp_power, tp_data, tp_time = tp.run_sim()"
   ]
  },
  {
   "cell_type": "markdown",
   "metadata": {},
   "source": [
    "We'll store our generated data for use in the combined power and data model."
   ]
  },
  {
   "cell_type": "code",
   "execution_count": null,
   "metadata": {},
   "outputs": [],
   "source": [
    "%store tp_power\n",
    "%store tp_data\n",
    "%store tp_time"
   ]
  },
  {
   "cell_type": "markdown",
   "metadata": {},
   "source": [
    "[Click here to continue to the capacitive sensor.](1.4%20Capacitive%20Sensor.ipynb)\n",
    "\n",
    "If you would like to look at more detailed information for the TPIS1S1385 sensor, consider looking at the [TPIS Datasheet](https://media.digikey.com/pdf/Data%20Sheets/Excelitas%20PDFs/TPiS_1S_1385.pdf)"
   ]
  }
 ],
 "metadata": {
  "kernelspec": {
   "display_name": "Python 3 (ipykernel)",
   "language": "python",
   "name": "python3"
  },
  "language_info": {
   "codemirror_mode": {
    "name": "ipython",
    "version": 3
   },
   "file_extension": ".py",
   "mimetype": "text/x-python",
   "name": "python",
   "nbconvert_exporter": "python",
   "pygments_lexer": "ipython3",
   "version": "3.8.5"
  },
  "vscode": {
   "interpreter": {
    "hash": "369f2c481f4da34e4445cda3fffd2e751bd1c4d706f27375911949ba6bb62e1c"
   }
  }
 },
 "nbformat": 4,
 "nbformat_minor": 4
}

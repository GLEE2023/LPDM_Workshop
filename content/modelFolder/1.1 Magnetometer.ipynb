{
 "cells": [
  {
   "cell_type": "markdown",
   "metadata": {},
   "source": [
    "# `1.1 Magnetometer 🧲`\n",
    "\n",
    "## <span style=\"color:tomato\"> Overview </span>\n",
    "The BM1422AGMV is a 3-axis magnetic sensor used to detect magnetic fields with a measurable range of -1200 μT (microteslas) to 1200 μT and a sensitivity of 0.042 μT/LSB (the smallest change that can be detected and stored in memory). For context, the Earth's magnetic field strength typically lies between 25 and 65 μT.\n",
    "\n",
    "---\n",
    "\n",
    "## <span style=\"color:tomato\"> Configurations </span>\n",
    "#### The sensor has several configurable modes:\n",
    "- <span style=\"color:orange\">**Continuous Mode**</span>: The sensor continuously measures at a configurable rate of 10Hz, 20Hz, 100Hz, or 1kHz.\n",
    "    - The device typically consumes 150μA at a rate of 100 samples per second, with a max of 300μA.\n",
    "- <span style=\"color:orange\">**Single Mode**</span>: The sensor conducts a single measurement at the request of the host.\n",
    "- <span style=\"color:orange\">**Power Down Mode**</span>: The sensor becomes inactive, entering a low-power state.\n",
    "    - The device typically consumes 1.5μA in this mode, with a max of 5μA.\n",
    "\n",
    "---"
   ]
  },
  {
   "cell_type": "markdown",
   "metadata": {},
   "source": [
    "## <span style=\"color:tomato\"> Creating Configurations </span>\n",
    "\n",
    "Like the temperature sensor, we'll create configurations to model the power and data usage of the sensor.\n",
    "\n",
    "From the following options, create at least one configuration by choosing the mode, the sample frequency (in Hz), the selectable averaging, and how long the sensor will spend in that configuration (in seconds). Note that sample frequency is different from sampling rate and is relevant only for the CONTINUOUS mode.\n",
    "\n",
    "- <span style=\"color:orange\">**Modes**</span>: {\"CONTINUOUS\", \"SINGLE\", \"POWER_DOWN\"}  \n",
    "- <span style=\"color:orange\">**Sample Frequency (Hz)**</span>: {10, 20, 100, 1000}  \n",
    "    - Sample frequency is used for the CONTINUOUS mode only\n",
    "- <span style=\"color:orange\">**Averaging**</span>: {1, 2, 4, 8, 16}  \n",
    "\n",
    "Certain configurations do not utilize all available settings. Below are the configuration formats for the 3 possible modes you can choose from. Anything with {} braces indicates a parameter you can change.\n",
    "\n",
    "\n",
    " - <span style=\"color:orange\">(\"POWER_DOWN\", 0, 0)</span>\n",
    " - <span style=\"color:orange\">(\"SINGLE\", 1000, { Averaging })</span>\n",
    " - <span style=\"color:orange\">(\"CONTINUOUS\", { Sample Frequency }, { Averaging })</span>\n",
    "\n",
    "You should also choose how long the sensor will spend in that configuration (duration, in seconds) and how fast the BM1422 sensor should retrieve samples (in seconds between samples).\n",
    "- <span style=\"color:orange\">**Sampling rate (s)**</span>: {n}\n",
    "    - The time it takes for the sensor to retrieve a sample is 0.5 ms. Thus the sampling rate can be no smaller than 0.0005.\n",
    "- <span style=\"color:orange\">**Configuration duration (s)**</span>: {n} \n",
    "\n",
    "<span style=\"color:#18BF7D\">For the following code, replace 'None' with appropriate values based on what you have learned above. Any lines without a 'None' should not be modified. Changing the values of the variables allows you to adjust a configuration consisting of a collection of these variables. At the end of the code, these configurations, in addition to their durations and the sampling rates, are put together in a list.</span>"
   ]
  },
  {
   "cell_type": "code",
   "execution_count": null,
   "metadata": {},
   "outputs": [],
   "source": [
    "import micropip\n",
    "await micropip.install(\"matplotlib\")\n",
    "import matplotlib.pyplot as plt\n",
    "await micropip.install(\"numpy\")\n",
    "import numpy as np\n",
    "from source.BM1422 import BM1422\n",
    "\n",
    "# Example parameters\n",
    "\n",
    "mode = \"CONTINUOUS\"\n",
    "sample_freq = 10\n",
    "num_averages = 4\n",
    "\n",
    "example_configuration = (mode, sample_freq, num_averages) \n",
    "duration = 10\n",
    "sampling_rate = 1\n",
    "\n",
    "# Try creating 3 distinct configurations below by replacing None with appropriate values\n",
    "\n",
    "# Configuration 1\n",
    "\n",
    "mode = None\n",
    "sample_freq = None\n",
    "num_averages = None\n",
    "\n",
    "configuration_1 = (mode, sample_freq, num_averages) \n",
    "duration_1 = None\n",
    "sampling_rate_1 = None\n",
    "\n",
    "# Configuration 2\n",
    "\n",
    "mode = None\n",
    "sample_freq = None\n",
    "num_averages = None\n",
    "\n",
    "configuration_2 = (mode, sample_freq, num_averages) \n",
    "duration_2 = None\n",
    "sampling_rate_2 = None\n",
    "\n",
    "# Configuration 3\n",
    "\n",
    "mode = None\n",
    "sample_freq = None\n",
    "num_averages = None\n",
    "\n",
    "configuration_3 = (mode, sample_freq, num_averages) \n",
    "duration_3 = None\n",
    "sampling_rate_3 = None\n",
    "\n",
    "modes_MAG = [(configuration_1,duration_1,sampling_rate_1), (configuration_2,duration_2,sampling_rate_2), (configuration_3,duration_3,sampling_rate_3)]"
   ]
  },
  {
   "cell_type": "markdown",
   "metadata": {},
   "source": [
    "## <span style=\"color:tomato\"> Configurations for a Lunar Mission </span>\n",
    "\n",
    "Now that you have explored different configurations, let's consider choosing the ideal mode for a lunar mission. The Continuous mode is not appropriate for the mission because we only need to retrieve data samples according to the temporal requirements of a particular science use case. In other words, using the Continuous mode wastes power. So we should only consider using the Single (measurement) mode or the power down mode.\n",
    "\n",
    "<span style=\"color:#18BF7D\">With these limitations in mind, revisit the configurations you set above and revise them so that they are well-suited for a lunar mission. </span>"
   ]
  },
  {
   "cell_type": "markdown",
   "metadata": {},
   "source": [
    "## <span style=\"color:tomato\"> Calculating Power Usage </span>\n",
    "We can calculate the power usage of the different modes to compare them. We'll start by looking at typical power consumption values, which use nominal current consumptions for calculations.\n",
    "\n",
    "<span style=\"color:#18BF7D\">Do not modify the following code. Simply run the cell to see the output.</span>"
   ]
  },
  {
   "cell_type": "code",
   "execution_count": null,
   "metadata": {},
   "outputs": [],
   "source": [
    "power_1 = BM1422.compute_power(BM1422,*configuration_1, sampling_rate_1)\n",
    "power_2 = BM1422.compute_power(BM1422,*configuration_2, sampling_rate_2)\n",
    "power_3 = BM1422.compute_power(BM1422,*configuration_3, sampling_rate_3)\n",
    "\n",
    "print(\"Config. 1: \", power_1, \"milliWatts\")\n",
    "print(\"Config. 2: \", power_2, \"milliWatts\")\n",
    "print(\"Config. 3: \", power_3, \"milliWatts\")\n",
    "\n",
    "plt.bar(1, power_1, label='Config. 1')\n",
    "plt.bar(2, power_2, label='Config. 2')\n",
    "plt.bar(3, power_3, label='Config. 3')\n",
    "plt.xticks([])\n",
    "plt.ylabel('Power in mW')\n",
    "plt.grid()\n",
    "plt.legend()\n",
    "plt.show()"
   ]
  },
  {
   "cell_type": "markdown",
   "metadata": {},
   "source": [
    "We'll now look at maximum power consumption values, where the maximum current consumptions are used for calculations. It's important to recognize that things like power can fluctuate, so you should consider both the typical power usage and the overestimated power usage of the magnetometer as best and worst case scenarios. The overestimated power usage will be used in the combined PDM in order to capture the overall worst case scenario for the power usage of all configurations together.\n",
    "\n",
    "<span style=\"color:#18BF7D\">Do not modify the following code. Simply run the cell to see the output.</span>"
   ]
  },
  {
   "cell_type": "code",
   "execution_count": null,
   "metadata": {},
   "outputs": [],
   "source": [
    "power_1 = BM1422.compute_power_overest(BM1422,*configuration_1, sampling_rate_1)\n",
    "power_2 = BM1422.compute_power_overest(BM1422,*configuration_2, sampling_rate_2)\n",
    "power_3 = BM1422.compute_power_overest(BM1422,*configuration_3, sampling_rate_3)\n",
    "\n",
    "print(\"Config. 1: \", power_1, \"milliWatts\")\n",
    "print(\"Config. 2: \", power_2, \"milliWatts\")\n",
    "print(\"Config. 3: \", power_3, \"milliWatts\")\n",
    "\n",
    "plt.bar(1, power_1, label='Config. 1')\n",
    "plt.bar(2, power_2, label='Config. 2')\n",
    "plt.bar(3, power_3, label='Config. 3')\n",
    "plt.xticks([])\n",
    "plt.ylabel('Power in mW')\n",
    "plt.grid()\n",
    "plt.legend()\n",
    "plt.show()"
   ]
  },
  {
   "cell_type": "markdown",
   "metadata": {},
   "source": [
    "## <span style=\"color:tomato\"> Calculating Data Usage </span>\n",
    "\n",
    "We can also take a look at the difference in data usage between modes.\n",
    "\n",
    "<span style=\"color:#18BF7D\">Do not modify the following code. Simply run the cell to see the output.</span>"
   ]
  },
  {
   "cell_type": "code",
   "execution_count": null,
   "metadata": {},
   "outputs": [],
   "source": [
    "data_1 = BM1422.compute_data(BM1422,*configuration_1, sampling_rate_1)\n",
    "data_2 = BM1422.compute_data(BM1422,*configuration_2, sampling_rate_2)\n",
    "data_3 = BM1422.compute_data(BM1422,*configuration_3, sampling_rate_3)\n",
    "\n",
    "print(\"Config. 1: \", data_1, \"bytes per second\")\n",
    "print(\"Config. 2: \", data_2, \"bytes per second\")\n",
    "print(\"Config. 3: \", data_3, \"bytes per second\")\n",
    "\n",
    "plt.bar(1, data_1, label='Config. 1')\n",
    "plt.bar(2, data_2, label='Config. 2')\n",
    "plt.bar(3, data_3, label='Config. 3')\n",
    "plt.xticks([])\n",
    "plt.ylabel('Bytes/s')\n",
    "plt.grid()\n",
    "plt.legend()\n",
    "plt.show()"
   ]
  },
  {
   "cell_type": "markdown",
   "metadata": {},
   "source": [
    "## <span style=\"color:tomato\"> Putting It All Together </span>\n",
    "\n",
    "Finally, we'll take a look at the power and data usage of all of our configurations together. The time_step is the distance between data values in the plot, and the total duration is how long the sensor is active for in the model.\n",
    "\n",
    "<span style=\"color:#18BF7D\">Do not modify the following code. Simply run the cell to see the output.</span>"
   ]
  },
  {
   "cell_type": "code",
   "execution_count": null,
   "metadata": {},
   "outputs": [],
   "source": [
    "time_step = 1\n",
    "total_duration = duration_1 + duration_2 + duration_3\n",
    "\n",
    "mag = BM1422(loop_rate=20, duration=total_duration, time_step=time_step, modelist = modes_MAG)\n",
    "mag_power, mag_data, mag_time = mag.run_sim()\n",
    "\n",
    "%store mag_power\n",
    "%store mag_data\n",
    "%store mag_time"
   ]
  },
  {
   "cell_type": "markdown",
   "metadata": {},
   "source": [
    "[Click here to continue to the next sensor, the accelerometer and gyroscope.](1.2%20Accelerometer%20and%20Gyroscope.ipynb)\n",
    "\n",
    "If you would like to look at more detailed information for the magnetometer sensor, consider looking at the [BM1422 Datasheet](https://fscdn.rohm.com/en/products/databook/datasheet/ic/sensor/geomagnetic/bm1422agmv-e.pdf)."
   ]
  }
 ],
 "metadata": {
  "kernelspec": {
   "display_name": "Python 3 (ipykernel)",
   "language": "python",
   "name": "python3"
  },
  "language_info": {
   "codemirror_mode": {
    "name": "ipython",
    "version": 3
   },
   "file_extension": ".py",
   "mimetype": "text/x-python",
   "name": "python",
   "nbconvert_exporter": "python",
   "pygments_lexer": "ipython3",
   "version": "3.8.5"
  },
  "vscode": {
   "interpreter": {
    "hash": "369f2c481f4da34e4445cda3fffd2e751bd1c4d706f27375911949ba6bb62e1c"
   }
  }
 },
 "nbformat": 4,
 "nbformat_minor": 4
}

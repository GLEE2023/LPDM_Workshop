{
 "cells": [
  {
   "cell_type": "markdown",
   "metadata": {},
   "source": [
    "# `3.0 Creating Configurations For The Flight Code 🚀`\n",
    "\n",
    "## <span style=\"color:tomato\"> Overview </span>\n",
    "\n",
    "In this section, you will essentially be creating a dataset that can be passed into the flight code. \n",
    "\n",
    "#### <span style=\"color:orange\">1. Bitstrings </span>\n",
    "\n",
    "The first item in this dataset will be a list of bitstrings. A bitstring is a string of binary digits (0s and 1s) that can be interpreted as an integer value. You may be familiar with binary numbers, where each digit is equal to its value times 2^i, where i is the position of the digit relative to the right end of the number. The value of the number is the sum of the digits' values times 2^i.\n",
    "\n",
    "<span style=\"color:orange\">$$ Value = \\sum_{0}^{n-1} b_i * 2^i $$</span>\n",
    "where <span style=\"color:orange\">$b_i$</span> is the ith binary digit from the right and <span style=\"color:orange\">$n$</span> is the number of digits.\n",
    "\n",
    "A bitstring does not necessarily represent a number, but instead information that can be easily encoded with 0s and 1s, like our configurations.\n",
    "\n",
    "The format of the list of bitstrings can be seen below:\n",
    "\n",
    "<span style=\"color:orange\"> [Bitstring 1, Bitstring 2, Bitstring 3, ... ] </span>\n",
    "\n",
    "#### <span style=\"color:orange\">2. Durations </span>\n",
    "\n",
    "The second item in this dataset will be a list of configuration durations. The ith duration in this list will correspond to the ith bitstring in the first list. The list will be in nested form, where the outer list's elements correspond to bitstrings while the inner lists' elements correspond to sensors and components. The format of this list can be seen below:\n",
    "\n",
    "<span style=\"color:orange\"> [[Durations 1], [Durations 2], [Durations 3], ... ] </span>\n",
    "\n",
    "<span style=\"color:orange\"> [Durations #] = [TP,CAP,TMP,ACC,MAG] </span>\n",
    "\n",
    "<span style=\"color:orange\"> Ex: TP = 60, CAP = 5, etc. </span>\n",
    "\n",
    "#### <span style=\"color:orange\">3. Sampling Rates </span>\n",
    "\n",
    "The third item in this dataset will be a list of sampling rates. Each sampling rate should be a decimal number and should conform to the capabilities of the appropriate sensors as well as the overarching data rate for the LunaSat. The list will be in nested form, where the outer list's elements correspond to bitstrings while the inner lists' elements correspond to sensors and components. The structure of this list can be seen below:\n",
    "\n",
    "\n",
    "<span style=\"color:orange\"> [[Sampling Rates 1],[Sampling Rates 2],[Sampling Rates 3],...] </span>\n",
    "\n",
    "<span style=\"color:orange\"> [Sampling Rates #] = [TP,CAP,TMP,ACC,MAG] </span>\n",
    "\n",
    "<span style=\"color:orange\"> Ex: TP = 0.1, CAP = 2, etc. </span>\n",
    "\n",
    "\n",
    "## <span style=\"color:tomato\"> Setting Configurations </span>\n",
    "\n",
    "<span style=\"color:#18BF7D\">\n",
    "\n",
    "### Please read these instructions very carefully.\n",
    "\n",
    "Below, you will be able to repeat the configurations you chose before. If you make any changes, be sure to check that these configurations adhere to mission requirements. Functions will be used to check that your configurations are valid. If your configurations are valid, you will be able to move on and generate the dataset. We recommend minimizing the number of unique configurations you create for each sensor. 3 is a good number, but you may define more if you wish. We also recommend choosing configuration durations such that they are considerably long, as switching configurations may require significant setup and downtime while code is executing. Setup may require clearing memory and redefining memory partitions if sensors are turned on and/or off. Since code must run synchronously, this will result in a delay to collecting data or performing other operations.\n",
    "    \n",
    "You may assume for now that these configurations will repeat indefinitely until RF is turned on and all sensors are turned off. If the total length of all your durations is ultimately less than the time allotted for data sampling, your configurations will loop such that once the last one finishes, the first one starts again. If the total length of all your durations is ultimately longer than the time allotted for data sampling, your configurations will be interrupted. The same thing will occur if RF needs to be turned on in the middle of a configuration. It has not yet been defined whether data sampling will restart with the most recent configuration or the first configuration once RF is turned off. \n",
    "    \n",
    "This is currently outside the scope of the LPDM, but you should be aware than code cannot execute instantaneously and the time it takes to reach the lines of code for collecting a sample from a particular sensor is dependent on how big the script is. This is another factor that has not yet been finalized, but ultimately the sensors will be sampled at either the defined rates or the rate of the loop itself, whichever is slower.\n",
    "</span>"
   ]
  },
  {
   "cell_type": "markdown",
   "metadata": {},
   "source": [
    "#### EXAMPLE CONFIGURATION DATASET GENERATION"
   ]
  },
  {
   "cell_type": "code",
   "execution_count": 1,
   "metadata": {},
   "outputs": [
    {
     "name": "stdout",
     "output_type": "stream",
     "text": [
      "[('CONTINUOUS_CONVERSION', 0, 0.0155), ('CONTINUOUS_CONVERSION', 0, 0.125), ('CONTINUOUS_CONVERSION', 0, 0.25), ('CONTINUOUS_CONVERSION', 0, 0.5), ('CONTINUOUS_CONVERSION', 0, 1), ('CONTINUOUS_CONVERSION', 0, 4), ('CONTINUOUS_CONVERSION', 0, 8), ('CONTINUOUS_CONVERSION', 0, 16), ('CONTINUOUS_CONVERSION', 8, 0.125), ('CONTINUOUS_CONVERSION', 8, 0.25), ('CONTINUOUS_CONVERSION', 8, 0.5), ('CONTINUOUS_CONVERSION', 8, 1), ('CONTINUOUS_CONVERSION', 8, 4), ('CONTINUOUS_CONVERSION', 8, 8), ('CONTINUOUS_CONVERSION', 8, 16), ('CONTINUOUS_CONVERSION', 32, 0.5), ('CONTINUOUS_CONVERSION', 32, 1), ('CONTINUOUS_CONVERSION', 32, 4), ('CONTINUOUS_CONVERSION', 32, 8), ('CONTINUOUS_CONVERSION', 32, 16), ('CONTINUOUS_CONVERSION', 64, 1), ('CONTINUOUS_CONVERSION', 64, 4), ('CONTINUOUS_CONVERSION', 64, 8), ('CONTINUOUS_CONVERSION', 64, 16), ('ONE_SHOT', 0, 0.0155), ('ONE_SHOT', 8, 0.0155), ('ONE_SHOT', 32, 0.0155), ('ONE_SHOT', 64, 0.0155), ('SHUTDOWN', 0, 0)]\n",
      "Please Save The Following For Your Records\n",
      "[None]\n",
      "[600]\n",
      "[[10, 250, 10, 0.1, 30]]\n"
     ]
    }
   ],
   "source": [
    "from source.helperFunctions import *\n",
    "from source.generateBitstrings import *\n",
    "\n",
    "team_name = 'EXAMPLE_ARDUINO_CONFIGS'\n",
    "team_no = 0\n",
    "\n",
    "duration_list = [[600]] # seconds\n",
    "\n",
    "# TMP - (mode, num_averages, conv_cycle_time)\n",
    "config_TMP = (\"ONE_SHOT\", 0, 0.0155)\n",
    "sampling_TMP = 10 # seconds\n",
    "duration_TMP = 600 # seconds\n",
    "\n",
    "# MAG - (mode, sample_freq, num_averages) \n",
    "config_MAG = (\"SINGLE\", 1000, 4)\n",
    "sampling_MAG = 30 # seconds\n",
    "duration_MAG = 1000 # seconds\n",
    "\n",
    "# ACC - (mode, low_power_wakeup, digital_low_pass)\n",
    "config_ACC = (\"ACCELEROMETER\", 0, \"101\")\n",
    "sampling_ACC = 0.1 # seconds\n",
    "duration_ACC = 60 # seconds\n",
    "\n",
    "# TP - (mode)\n",
    "config_TP = (\"OFF\")\n",
    "sampling_TP = 10 # seconds\n",
    "duration_TP = 5000 # seconds\n",
    "\n",
    "# CAP - (mode)\n",
    "config_CAP = (\"ON\")\n",
    "sampling_CAP = 250 # seconds\n",
    "duration_CAP = 10000 # seconds\n",
    "\n",
    "config_list = [[config_TP, config_CAP, config_TMP, config_ACC, config_MAG]]\n",
    "# validateConfigs(config_list)\n",
    "sampling_rates_list = [[sampling_TP, sampling_CAP, sampling_TMP, sampling_ACC, sampling_MAG]]\n",
    "duration_list = [[duration_TMP,duration_MAG,duration_ACC,duration_TP,duration_CAP]]\n",
    "# bitstring_list = generate_bitstring(config)\n",
    "bitstring_list = [None]"
   ]
  },
  {
   "cell_type": "markdown",
   "metadata": {},
   "source": [
    "#### SET CONFIGS BELOW (max of 5 configs total):"
   ]
  },
  {
   "cell_type": "code",
   "execution_count": 2,
   "metadata": {},
   "outputs": [],
   "source": [
    "team_name = None\n",
    "team_no = None\n",
    "\n",
    "config_list = []\n",
    "duration_list = []\n",
    "sampling_rates_list = []\n",
    "\n",
    "# Below are 3 sections for adding your configurations\n",
    "\n",
    "# CONFIGURATION 1:\n",
    "duration_list.append(None) # duration\n",
    "\n",
    "config_TMP = None\n",
    "sampling_TMP = None \n",
    "\n",
    "config_MAG = None\n",
    "sampling_MAG = None\n",
    "\n",
    "config_ACC = None\n",
    "sampling_ACC = None\n",
    "\n",
    "config_TP = None\n",
    "sampling_TP = None\n",
    "\n",
    "config_CAP = None\n",
    "sampling_CAP = None\n",
    "\n",
    "config_list.append([config_TP, config_CAP, config_TMP, config_ACC, config_MAG]) # configurations\n",
    "sampling_rates_list.append([sampling_TP, sampling_CAP, sampling_TMP, sampling_ACC, sampling_MAG]) # sampling rates\n",
    "\n",
    "# CONFIGURATION 2:\n",
    "duration_list.append(None) # duration\n",
    "\n",
    "config_TMP = None\n",
    "sampling_TMP = None \n",
    "\n",
    "config_MAG = None\n",
    "sampling_MAG = None\n",
    "\n",
    "config_ACC = None\n",
    "sampling_ACC = None\n",
    "\n",
    "config_TP = None\n",
    "sampling_TP = None\n",
    "\n",
    "config_CAP = None\n",
    "sampling_CAP = None\n",
    "\n",
    "config_list.append([config_TP, config_CAP, config_TMP, config_ACC, config_MAG]) # configurations\n",
    "sampling_rates_list.append([sampling_TP, sampling_CAP, sampling_TMP, sampling_ACC, sampling_MAG]) # sampling rates\n",
    "\n",
    "# CONFIGURATION 3:\n",
    "duration_list.append(None) # duration\n",
    "\n",
    "config_TMP = None\n",
    "sampling_TMP = None \n",
    "\n",
    "config_MAG = None\n",
    "sampling_MAG = None\n",
    "\n",
    "config_ACC = None\n",
    "sampling_ACC = None\n",
    "\n",
    "config_TP = None\n",
    "sampling_TP = None\n",
    "\n",
    "config_CAP = None\n",
    "sampling_CAP = None\n",
    "\n",
    "config_list.append([config_TP, config_CAP, config_TMP, config_ACC, config_MAG]) # configurations\n",
    "sampling_rates_list.append([sampling_TP, sampling_CAP, sampling_TMP, sampling_ACC, sampling_MAG]) # sampling rates"
   ]
  },
  {
   "cell_type": "code",
   "execution_count": 3,
   "metadata": {},
   "outputs": [],
   "source": [
    "configurations = [config_1, config_2, config_3] # add config names here"
   ]
  },
  {
   "cell_type": "code",
   "execution_count": 4,
   "metadata": {},
   "outputs": [
    {
     "ename": "NameError",
     "evalue": "name 'validateConfigs' is not defined",
     "output_type": "error",
     "traceback": [
      "\u001b[0;31m---------------------------------------------------------------------------\u001b[0m",
      "\u001b[0;31mNameError\u001b[0m                                 Traceback (most recent call last)",
      "\u001b[0;32m<ipython-input-4-9af48cd97043>\u001b[0m in \u001b[0;36m<module>\u001b[0;34m\u001b[0m\n\u001b[0;32m----> 1\u001b[0;31m \u001b[0mvalid\u001b[0m \u001b[0;34m=\u001b[0m \u001b[0mvalidateConfigs\u001b[0m\u001b[0;34m(\u001b[0m\u001b[0mconfigurations\u001b[0m\u001b[0;34m)\u001b[0m \u001b[0;31m# VALIDATING CONFIGS\u001b[0m\u001b[0;34m\u001b[0m\u001b[0;34m\u001b[0m\u001b[0m\n\u001b[0m",
      "\u001b[0;31mNameError\u001b[0m: name 'validateConfigs' is not defined"
     ]
    }
   ],
   "source": [
    "valid = validate_configs(config_list) # VALIDATING CONFIGS"
   ]
  },
  {
   "cell_type": "code",
   "execution_count": null,
   "metadata": {},
   "outputs": [],
   "source": [
    "# SET YOUR TEAM NAME HERE\n",
    "team_name = 'EXAMPLE_ARDUINO_CONFIGS'"
   ]
  },
  {
   "cell_type": "code",
   "execution_count": null,
   "metadata": {},
   "outputs": [],
   "source": [
    "# GENERATE BITSTRINGS FOR VALID MODES IF INPUTS ARE VALID\n",
    "if valid == True:\n",
    "    ArduinoConfigs(configurations, team_name) # write output to file in outputs folder\n",
    "    printArduinoConfigs(team_name) # printing configurations generated\n",
    "else: print(\"Invalid Config. See error message above.\")\n",
    "    \n",
    "# The generated bitstring is a binary representation of the configurations you have created. This bitstring will be used as input to the lunar code."
   ]
  },
  {
   "cell_type": "code",
   "execution_count": null,
   "metadata": {},
   "outputs": [],
   "source": [
    "print(\"Please Save The Following For Your Records\")\n",
    "print(bitstring_list)\n",
    "print(duration_list)\n",
    "print(sampling_rates_list)"
   ]
  }
 ],
 "metadata": {
  "kernelspec": {
   "display_name": "Python 3",
   "language": "python",
   "name": "python3"
  },
  "language_info": {
   "codemirror_mode": {
    "name": "ipython",
    "version": 3
   },
   "file_extension": ".py",
   "mimetype": "text/x-python",
   "name": "python",
   "nbconvert_exporter": "python",
   "pygments_lexer": "ipython3",
   "version": "3.8.5"
  },
  "vscode": {
   "interpreter": {
    "hash": "369f2c481f4da34e4445cda3fffd2e751bd1c4d706f27375911949ba6bb62e1c"
   }
  }
 },
 "nbformat": 4,
 "nbformat_minor": 4
}

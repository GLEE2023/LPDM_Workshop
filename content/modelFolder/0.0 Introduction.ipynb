{
 "cells": [
  {
   "cell_type": "markdown",
   "metadata": {},
   "source": [
    "# `0. Introduction to the Lunasat Power and Data Model`\n",
    "\n",
    "## <span style=\"color:tomato\"> Overview </span>\n",
    "\n",
    "Welcome to the Lunasat Power and Data Model (LPDM)! Through a series of notebooks, we hope to provide you with a deeper understanding of the sensors onboard the LunaSat, their potential configurations, and how the various configurations affect the sensor's power and data consumption.\n",
    "\n",
    "After taking a look at all the of the sensors, we'll plot the overall power and data consumption for the entire LunaSat and then give you the opportunity to provide your own configurations for your LunaSat by generating a bitstring that will be included in the flight code such that LunaSats on the Moon are tailored towards your use cases."
   ]
  },
  {
   "cell_type": "markdown",
   "metadata": {},
   "source": [
    "## <span style=\"color:tomato\"> LPDM Format </span>\n",
    "\n",
    "Each major sensor and component has its own notebook for modeling its data and/or power usage. These components include the\n",
    "- <span style=\"color:orange\"> Temperature Sensor</span>\n",
    "- <span style=\"color:orange\"> Magnetometer</span>\n",
    "- <span style=\"color:orange\"> Accelerometer</span>\n",
    "- <span style=\"color:orange\"> Thermopile</span>\n",
    "- <span style=\"color:orange\"> Capacitive Sensor</span>\n",
    "- <span style=\"color:orange\"> Solar Panels</span>\n",
    "- <span style=\"color:orange\"> Microcontroller (Processor)</span>\n",
    "- <span style=\"color:orange\"> RF Components</span>\n",
    "\n",
    "Components that do not have their own notebooks include the\n",
    "- <span style=\"color:orange\"> EEPROM Module</span>\n",
    "- <span style=\"color:orange\"> LEDs</span>\n",
    "\n",
    "As you go through each notebook, you will be presented with information about the relevant component(s) as well as any configurations that you can select for them. You will be shown snippets of codes (in what are called cells) that you can edit and run. To run a cell, simply select it and then either press the right-facing triangle in the tool-bar, or press the left shift key and the enter key on your keyboard. If you make an edit to the cell, you must re-run it to update any output it provides. If there are any errors in the code, the cell will not finish and will instead provide the location and kind of error that occurred.\n",
    "\n",
    "### <span style=\"color:#18BF7D\">Important instructions, such as which cells should or shouldn't be modified, are given in this color.</span> \n",
    "\n",
    "### <span style=\"color:orange\">Important concepts that you should remember are written in this color.</span> \n",
    "\n",
    "### <span style=\"color:tomato\">Section headers are written in this color.</span>"
   ]
  },
  {
   "cell_type": "markdown",
   "metadata": {},
   "source": [
    "## <span style=\"color:tomato\"> Status of the LPDM </span>\n",
    "\n",
    "The LPDM is a useful resource for assessing the feasability of a set of LunaSat configurations, but it is not yet finalized due to the following factors: \n",
    "- <span style=\"color:orange\"> Sensors </span>: The sensors and components explored in the LPDM are subject to change as GLEE approaches a finalized lunar version of the LunaSat. The data and power usage will change accordingly.\n",
    "- <span style=\"color:orange\"> Actual vs Experimental Values</span>: The LPDM uses physical characteristics and quantities as given by the manufacturers of the components to predict their power and data usage. Not all of these values have been verified experimentally, and so the actual power / data usage of LunaSat configurations may be slightly different than what is modeled in these notebooks.\n",
    "- <span style=\"color:orange\"> Sampling Rates</span>: You will find in the later notebooks of the LPDM that we introduce constraints on how often you can collect data with your sensors. These constraints are determined by the storage available on LunaSats, our RF capabilities, and restrictions imposed by our lander provider. Since these factors are not yet finalized, the data rate (and by extension the sampling rates of individual sensors) may be increased or decreased in the future. \n",
    "- <span style=\"color:orange\"> Available Power</span>: You will explore in notebook 1.5 how available power is affected by a landing location on the Moon. Since the landing location hasn't been finalized yet, the available power is not yet known. This will affect what components can be active together on the LunaSat at a particular time."
   ]
  },
  {
   "cell_type": "markdown",
   "metadata": {},
   "source": [
    "[Click here to continue to the first component, the temperature sensor.](1.0%20Temperature%20Sensor.ipynb)"
   ]
  }
 ],
 "metadata": {
  "kernelspec": {
   "display_name": "Python 3 (ipykernel)",
   "language": "python",
   "name": "python3"
  },
  "language_info": {
   "codemirror_mode": {
    "name": "ipython",
    "version": 3
   },
   "file_extension": ".py",
   "mimetype": "text/x-python",
   "name": "python",
   "nbconvert_exporter": "python",
   "pygments_lexer": "ipython3",
   "version": "3.8.5"
  },
  "vscode": {
   "interpreter": {
    "hash": "369f2c481f4da34e4445cda3fffd2e751bd1c4d706f27375911949ba6bb62e1c"
   }
  }
 },
 "nbformat": 4,
 "nbformat_minor": 4
}

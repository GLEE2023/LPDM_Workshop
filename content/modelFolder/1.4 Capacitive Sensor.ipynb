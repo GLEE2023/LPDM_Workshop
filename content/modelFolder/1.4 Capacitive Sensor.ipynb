{
 "cells": [
  {
   "cell_type": "markdown",
   "metadata": {},
   "source": [
    "# `1.4 Capacitive Sensor Configurations ⚡️`\n",
    "\n",
    "## <span style=\"color:tomato\"> Overview </span>\n",
    "\n",
    "The CAP11NA sensor is a custom capacitive sensor (built in-house) for measuring the eletrical properities, and with that the composition, of the lunar regolith. It is not reconfigurable as its custom built nature means it is currently undergoing testing and as such its power consumption is currently unknown, so we will plot out its data usage when it is recording data as that is currently known.\n",
    "\n",
    "---\n",
    "\n",
    "## <span style=\"color:tomato\"> Configurations </span>\n",
    "\n",
    "The sensor, like the thermopile, has a single configuration, \"CAP_ON\", indicating its active state. Although there is no explicit \"CAP_OFF\" configuration, it is also included to demonstrate no power and data usage when the sensor is not actively used. In reality, the sensor cannot be turned on or off because it is an analog sensor. On and Off is just used to differentiate between sampling and not sampling.\n",
    "\n",
    "The possible modes are <span style=\"color:orange\">\"CAP_OFF\"</span> and <span style=\"color:orange\">\"CAP_ON\"</span>. No other modes or parameters are available.\n",
    " \n",
    "---"
   ]
  },
  {
   "cell_type": "markdown",
   "metadata": {},
   "source": [
    "## <span style=\"color:tomato\"> Creating Configurations </span>\n",
    "\n",
    "For now, you can choose the duration the sensor will stay in that configuration, speed the sensor should collect samples, and loop_rate, similar to the thermopile. \n",
    "- <span style=\"color:orange\">**Configuration duration (s)**</span>: {n} \n",
    "- <span style=\"color:orange\">**Sampling rate (s)**</span>: {n}\n",
    "\n",
    "<span style=\"color:#18BF7D\">For the following code, replace 'None' with appropriate values. Change the variables to adjust the configurations to your choosing. Do keep in mind that increased data usage is likely to come with increased power consumption which will be known once the testing results are finalized.  </span>"
   ]
  },
  {
   "cell_type": "code",
   "execution_count": null,
   "metadata": {
    "scrolled": true
   },
   "outputs": [],
   "source": [
    "import micropip\n",
    "await micropip.install(\"matplotlib\")\n",
    "import matplotlib.pyplot as plt\n",
    "await micropip.install(\"numpy\")\n",
    "import numpy as np\n",
    "from source.CAP11NA import CAP11NA\n",
    "\n",
    "# Example parameters\n",
    "mode = \"CAP_ON\"\n",
    "duration = 10\n",
    "sampling_rate = 10\n",
    "\n",
    "example_configuration = (mode) # Parentheses are used to group variables together in a 'tuple', a data type in Python \n",
    "\n",
    "# Mode 1\n",
    "mode_1 = None\n",
    "duration_1 = None\n",
    "sampling_rate_1 = None\n",
    "\n",
    "configuration_1 = (mode_1)\n",
    "\n",
    "# Mode 2\n",
    "mode_2 = None\n",
    "duration_2 = None\n",
    "sampling_rate_2 = None\n",
    "\n",
    "configuration_2 = (mode_2)\n",
    "\n",
    "# Mode 3\n",
    "mode_3 = None\n",
    "duration_3 = None\n",
    "sampling_rate_3 = None\n",
    "\n",
    "configuration_3 = (mode_3)\n",
    "\n",
    "modes_CAP = [(configuration_1,duration_1, sampling_rate_1), (configuration_2, duration_2, sampling_rate_2), (configuration_3, duration_3, sampling_rate_3)]"
   ]
  },
  {
   "cell_type": "markdown",
   "metadata": {},
   "source": [
    "## <span style=\"color:tomato\"> Calculating Data Usage</span>\n",
    "\n",
    "Utilizing the configurations above, the data usage of each of these configurations will be calculated and plotted below. The data usage is measured in Bytes/s. \n",
    "\n",
    "<span style=\"color:#18BF7D\">Do not modify the following code. Simply run the cell to see the output of the choosen configurations.</span>"
   ]
  },
  {
   "cell_type": "code",
   "execution_count": null,
   "metadata": {},
   "outputs": [],
   "source": [
    "data_1 = CAP11NA.get_Bytes_per_sec(CAP11NA, configuration_1, sampling_rate_1)\n",
    "data_2 = CAP11NA.get_Bytes_per_sec(CAP11NA, configuration_2, sampling_rate_2)\n",
    "data_3 = CAP11NA.get_Bytes_per_sec(CAP11NA, configuration_3, sampling_rate_3)\n",
    "\n",
    "print(\"Configuration 1: \", data_1, \"bytes per second\")\n",
    "print(\"Configuration 2: \", data_2, \"bytes per second\")\n",
    "print(\"Configuration 3: \", data_3, \"bytes per second\")\n",
    "\n",
    "plt.bar(1, data_1, label='Config. 1')\n",
    "plt.bar(2, data_2, label='Config. 2')\n",
    "plt.bar(3, data_3, label='Config. 3')\n",
    "\n",
    "plt.xticks([])\n",
    "plt.ylabel('Bytes/s')\n",
    "plt.grid()\n",
    "plt.legend()\n",
    "plt.show()"
   ]
  },
  {
   "cell_type": "markdown",
   "metadata": {},
   "source": [
    "## <span style=\"color:tomato\"> Putting It All Together </span>\n",
    "\n",
    "Finally, we'll take a look at the data usage of one of these configurations, namely the 1st configuration. A placeholder power consumption is utilized but will be replaced in future updates of the LPDM.\n",
    "\n",
    "<span style=\"color:#18BF7D\">Do not modify the following code. Simply run the cell to see the output.</span>"
   ]
  },
  {
   "cell_type": "code",
   "execution_count": null,
   "metadata": {},
   "outputs": [],
   "source": [
    "time_step = 1\n",
    "total_duration = duration_1 + duration_2 + duration_3\n",
    "cap = CAP11NA(time_step, total_duration, modes_CAP, loop_rate = 20)"
   ]
  },
  {
   "cell_type": "code",
   "execution_count": null,
   "metadata": {},
   "outputs": [],
   "source": [
    "cap_power, cap_data, cap_time = cap.run_sim()"
   ]
  },
  {
   "cell_type": "markdown",
   "metadata": {},
   "source": [
    "We'll store the output for later use."
   ]
  },
  {
   "cell_type": "code",
   "execution_count": null,
   "metadata": {},
   "outputs": [],
   "source": [
    "%store cap_time\n",
    "%store cap_power\n",
    "%store cap_data"
   ]
  },
  {
   "cell_type": "markdown",
   "metadata": {},
   "source": [
    "[Click here to continue to the solar panels.](1.5%20Solar%20Panels.ipynb)\n"
   ]
  }
 ],
 "metadata": {
  "kernelspec": {
   "display_name": "Python 3 (ipykernel)",
   "language": "python",
   "name": "python3"
  },
  "language_info": {
   "codemirror_mode": {
    "name": "ipython",
    "version": 3
   },
   "file_extension": ".py",
   "mimetype": "text/x-python",
   "name": "python",
   "nbconvert_exporter": "python",
   "pygments_lexer": "ipython3",
   "version": "3.8.5"
  },
  "vscode": {
   "interpreter": {
    "hash": "369f2c481f4da34e4445cda3fffd2e751bd1c4d706f27375911949ba6bb62e1c"
   }
  }
 },
 "nbformat": 4,
 "nbformat_minor": 4
}

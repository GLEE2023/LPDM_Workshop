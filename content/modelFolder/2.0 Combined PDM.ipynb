{
 "cells": [
  {
   "cell_type": "markdown",
   "metadata": {},
   "source": [
    "# `2.0 Combined PDM 📊`\n",
    "\n",
    "## <span style=\"color:tomato\"> Overview </span>\n",
    "\n",
    "In this notebook, we will compute the total power and total data for the configurations you created in the earlier notebooks. \n",
    "\n",
    "<span style=\"color:#18BF7D\">If you would like to make changes to your configurations, go back to the relevant notebooks, update the configurations, and re-run the cells with the lines \"%store XXX\".</span>\n",
    "\n",
    "---\n",
    "\n",
    "## <span style=\"color:tomato\"> Calculating Additional Power Usage</span>\n",
    "\n",
    "We have explored the power usage of many components on the LunaSat, but we have not considered all of them yet. Other components that consume power include the <span style=\"color:orange\">LEDs</span> and the <span style=\"color:orange\">EEPROM module</span>. Unfortunately the power is not very easy to predict for these components, and so the true power usage will have to be measured in the future. Additionally, the power consumption of the <span style=\"color:orange\">EEPROM module</span> is dependent on how often data is read to and written to memory in the component, which is in turn dependent on the sampling rates you choose, the limitations imposed on those sampling rates, and the space available for data buffers in microcontroller memory. We will instead use an estimate of the power usage for now. In the cell below, you can choose how often the LEDs blink, if at all. LEDs may be used to support localization techniques, but they currently do not serve a purpose and will not be included in your chosen configurations.\n",
    "\n",
    "<span style=\"color:#18BF7D\">For the following code, replace 'None' with appropriate values based on what you have learned above. Any lines without a 'None' should not be modified.</span>"
   ]
  },
  {
   "cell_type": "code",
   "execution_count": 3,
   "metadata": {},
   "outputs": [],
   "source": [
    "voltage = 3.3 # Volts\n",
    "\n",
    "min_power = 29.7 #mW, minimum power always consumed by the LunaSat. Unavoidable\n",
    "\n",
    "eeprom_current_standby = 20 # µA\n",
    "eeprom_current_io = 2 # mA\n",
    "io_time = 4 #ns\n",
    "io_per_second = None #times per second read/write is performed, value between 0 and 250 million\n",
    "\n",
    "eeprom_power = (eeprom_current_io * (voltage * 1000) * (io_time*io_per_second)) + (eeprom_current_standby * (voltage * 1000) * (1 - (io_time*io_per_second)))\n",
    "\n",
    "led_blue_power = 66 # mW\n",
    "led_red_power = 82.5 # mW\n",
    "active_time_per_second_blue = None #seconds, value between 0 and 1\n",
    "active_time_per_second_red = None #seconds, value between 0 and 1\n",
    "led_power_consumption = led_blue_power * active_time_per_second_blue + led_red_power * active_time_per_second_red\n",
    "\n",
    "add_power = min_power + eeprom_power + led_power_consumption"
   ]
  },
  {
   "cell_type": "markdown",
   "metadata": {},
   "source": [
    "## <span style=\"color:tomato\"> Creating Data Lists</span>\n",
    "\n",
    "We want to now look at the power and data usages separetely before plotting them collectively. We'll first create Python lists that will include all individual power / data usages.\n",
    "\n",
    "<span style=\"color:#18BF7D\">Do not modify the following code. Simply run the cell to see the output.</span>"
   ]
  },
  {
   "cell_type": "code",
   "execution_count": null,
   "metadata": {},
   "outputs": [],
   "source": [
    "from source.helperFunctions import *\n",
    "%store -r\n",
    "\n",
    "total_pow = tmp_power + mag_power + acc_power + tp_power + cap_power + mic_power + add_power # computing total power for all sensors\n",
    "total_data = tmp_data + mag_data + acc_data + tp_data + cap_data # computing total data for all sensors\n",
    "\n",
    "mic_time = acc_time\n",
    "add_time = acc_time\n",
    "min_time = acc_time\n",
    "total_time = acc_time\n",
    "\n",
    "# lists for plot functions. \n",
    "time_list = [min_time, acc_time, mag_time, tp_time, tmp_time, acc_time, cap_time, mic_time, total_time]\n",
    "power_list = [min_power, acc_power, mag_power, tp_power, tmp_power, cap_power, mic_power, total_pow]\n",
    "data_list = [min_data, acc_data, mag_data, tp_data, tmp_data, cap_data, mic_data, total_data]"
   ]
  },
  {
   "cell_type": "markdown",
   "metadata": {},
   "source": [
    "## <span style=\"color:tomato\"> Putting It All Together </span>\n",
    "\n",
    "We want to make sure that our configurations together meet power and data requirements. In this section, you should make sure that your configurations do not use more power than is available and do not generate more data than the maximum data rate. While these requirements have not been finalized, here are the parameters you should take into consideration:\n",
    "\n",
    "- <span style=\"color:orange\">**Landing Location (Latitude)**</span>: -70º\n",
    "- <span style=\"color:orange\">**Data rate**</span>: 1000 bytes per second\n",
    "- <span style=\"color:orange\">**Power Usage**</span>: Dependent on time of day. Minimum power needed is 29.7mW. Don't worry about satisfying this during lunar night.\n",
    "\n",
    "<span style=\"color:#18BF7D\">Your task should be to use the plots below to verify that your configurations meet these requirements. If you need to make changes to your configurations to meet these requirements, you can go back to the appropriate notebooks, adjust the configurations, and re-run the cells with the lines \"%store XXX\".</span>\n",
    "\n",
    "<span style=\"color:#18BF7D\">If you would need to change the landing location of the LunaSats or the interval of time you'd like to look at for accurate plotting, go back to the Solar Panels notebook, alter the parameters passed into the SM111K object named \"solar_panel_model\", and re-run the cells with the lines \"%store XXX\".</span>\n",
    "\n",
    "<span style=\"color:#18BF7D\">Do not modify the following code. Simply run the cells to see the output.</span>"
   ]
  },
  {
   "cell_type": "code",
   "execution_count": null,
   "metadata": {},
   "outputs": [],
   "source": [
    "plot_total_data(time_list, data_list)"
   ]
  },
  {
   "cell_type": "code",
   "execution_count": null,
   "metadata": {},
   "outputs": [],
   "source": [
    "plot_power_separate(time_list, power_list)"
   ]
  },
  {
   "cell_type": "code",
   "execution_count": null,
   "metadata": {},
   "outputs": [],
   "source": [
    "# The model shows the times in the shaded region where the solar panel produces enough power for the LunaSat with the given modes for each sensor\n",
    "max_power_used = total_pow\n",
    "solar_panel_model.plot_power_and_times_possible(max_power = max_power_used)"
   ]
  },
  {
   "cell_type": "markdown",
   "metadata": {},
   "source": [
    "<span style=\"color:#18BF7D\">Once you have determined that your configurations satisfy your use cases and the requirements, you can move on to the next notebook to generate bitstring representations of your configurations so that they can be included in the flight code.</span>"
   ]
  },
  {
   "cell_type": "markdown",
   "metadata": {},
   "source": [
    "[Click here to continue to the configuration portion of the LPDM.](3.0%20Configuration.ipynb)"
   ]
  },
  {
   "cell_type": "code",
   "execution_count": null,
   "metadata": {},
   "outputs": [],
   "source": []
  }
 ],
 "metadata": {
  "kernelspec": {
   "display_name": "Python 3",
   "language": "python",
   "name": "python3"
  },
  "language_info": {
   "codemirror_mode": {
    "name": "ipython",
    "version": 3
   },
   "file_extension": ".py",
   "mimetype": "text/x-python",
   "name": "python",
   "nbconvert_exporter": "python",
   "pygments_lexer": "ipython3",
   "version": "3.8.5"
  },
  "vscode": {
   "interpreter": {
    "hash": "369f2c481f4da34e4445cda3fffd2e751bd1c4d706f27375911949ba6bb62e1c"
   }
  }
 },
 "nbformat": 4,
 "nbformat_minor": 4
}

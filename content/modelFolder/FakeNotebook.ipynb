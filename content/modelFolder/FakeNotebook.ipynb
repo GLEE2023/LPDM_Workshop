{
 "cells": [
  {
   "cell_type": "markdown",
   "id": "c12aabea-da6e-4f46-9000-6581626d9a04",
   "metadata": {},
   "source": [
    "Fake Notebook"
   ]
  },
  {
   "cell_type": "code",
   "execution_count": 1,
   "id": "c6dbd74c-c9a9-4e7e-ae61-a4d64c349401",
   "metadata": {},
   "outputs": [],
   "source": [
    "string = \"This notebook is for testing purposes\""
   ]
  }
 ],
 "metadata": {
  "kernelspec": {
   "display_name": "Python 3 (ipykernel)",
   "language": "python",
   "name": "python3"
  },
  "language_info": {
   "codemirror_mode": {
    "name": "ipython",
    "version": 3
   },
   "file_extension": ".py",
   "mimetype": "text/x-python",
   "name": "python",
   "nbconvert_exporter": "python",
   "pygments_lexer": "ipython3",
   "version": "3.8.5"
  }
 },
 "nbformat": 4,
 "nbformat_minor": 5
}

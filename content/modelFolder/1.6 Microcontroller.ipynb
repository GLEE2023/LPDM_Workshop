{
 "cells": [
  {
   "attachments": {},
   "cell_type": "markdown",
   "metadata": {},
   "source": [
    "# `1.6 Microcontroller (Processor) 💻`\n",
    "\n",
    "## <span style=\"color:tomato\"> Overview </span>\n",
    "- The ATmega328P is a low power, 8-bit microcontroller based on the AVR architecture, which allows the system designer to optimize power consumption versus processing speed.\n",
    "\n",
    "---\n",
    "\n",
    "## <span style=\"color:tomato\"> Configurations </span>\n",
    "The ATmega328P allows for a variety of sleep modes for power and noise reduction.\n",
    "- **Active Mode**: The MCU runs as normal with all peripherals active. The overall power consumption depends on several factors, such as operating voltage, operating frequency, loading of I/O pins, switching rate of I/O pins, code executed, and ambient temperature, though operating voltage and frequency are the dominating factors. \n",
    "###\n",
    "- **Idle Mode**: Stops the MCU's CPU by disabling the CPU and FLASH clocks while allowing other clocks, counters, and system interrupts to function.\n",
    "###\n",
    "- **ADC Noise Reduction Mode**: Disables the CPU, I/O, and FLASH clocks, which improves the noise environment for the ADC.\n",
    "###\n",
    "- **Power-down Mode**: Halts all generated clocks, allowing operation of only asynchronous modules.\n",
    "###\n",
    "- **Power-save Mode:**: Identical to Power-down, but keeps the Timer/Counter2 running to enable wakeup from timer interrupts.\n",
    "###\n",
    "- **Standby Mode**: Identical to Power-down, but keeps the Oscillator running.\n",
    "###\n",
    "- **Extended Standby Mode**: Identical to Power-save, but keeps the Oscillator running.\n",
    "###\n",
    "- **Power Reduction Register**: Allows individual shutting down of several components for power reduction: Two-Wire Interface (TWI), Timers 0, 1, and 2, the Analog to Digital Converter (ADC), the Universal Synchronous and Asynchronous Reciever-Transmitter (USART), and the Serial Peripheral Interface (SPI).\n",
    "###\n",
    "- **Additional Power Saving**: For additional power saving, the ADC, Analog Comparator (AC), Internal Voltage Reference (IVR), Watchdog Timer, Brown-out Detector (BOD), Port Pins, and On-chip Debug System can all be disabled or configured to use minimum power.\n",
    "###\n",
    "From the following options, create at least one configuration by choosing the mode, any components to disable, and how long the sensor will spend in that configuration (in seconds) before moving into the following in a loop.\n",
    "\n",
    "**Modes**: {ACTIVE, IDLE, ADC_NOISE_REDUCTION, POWER_DOWN, POWER_SAVE, STANDBY, EXTENDED_STANDBY}  \n",
    "**Disable components**: {TWI, TIMER0, TIMER1, TIMER2, ADC, USART,   SPI, AC, IVR, WATCHDOG, BOD, PINS, DEBUG}  "
   ]
  },
  {
   "cell_type": "code",
   "execution_count": 5,
   "metadata": {},
   "outputs": [],
   "source": [
    "from source.ATmega328P import ATmega328P #MCU\n",
    "\n",
    "# example_configuration = (\"POWER_SAVE\", \"TWI\", \"TIMER0\", \"TIMER1\", \"USART\", \"WATCHDOG\", \"BOD\")\n",
    "\n",
    "# Example parameters\n",
    "\n",
    "mode = \"POWER_SAVE\"\n",
    "disable_1 = \"TWI\"\n",
    "disable_2 = \"TIMER0\" # Multiple disable components can be present in 1 cofiguration\n",
    "\n",
    "example_configuration = (mode, disable_1, disable_2) # Parentheses are used to group variables together in a 'tuple', a data type in Python \n",
    "duration = 10\n",
    "sampling_rate = 10\n",
    "\n",
    "\n",
    "# Try creating 3 distinct configurations below by replacing None with appropriate values\n",
    "\n",
    "# Configuration 1\n",
    "\n",
    "mode = None\n",
    "disable_1 = None\n",
    "disable_2 = None \n",
    "\n",
    "configuration_1 = (mode, disable_1, disable_2) \n",
    "duration_1 = 10\n",
    "sampling_rate_1 = 10\n",
    "\n",
    "# Configuration 2\n",
    "\n",
    "mode = None\n",
    "disable_1 = None\n",
    "disable_2 = None \n",
    "\n",
    "configuration_2 = (mode, disable_1, disable_2) \n",
    "duration_2 = 10\n",
    "sampling_rate_2 = 10\n",
    "\n",
    "# Configuration 3\n",
    "\n",
    "mode = None\n",
    "disable_1 = None\n",
    "disable_2 = None \n",
    "\n",
    "configuration_3 = (mode, disable_1, disable_2) \n",
    "duration_3 = 10\n",
    "sampling_rate_3 = 10\n",
    "\n",
    "# Below, we group together the configuration tuple with a duration and sampling rate in another tuple\n",
    "# These tuples are added to a list called modes_Micro\n",
    "modes_Micro = [(configuration_1, duration_1, sampling_rate_1), (configuration_2, duration_2, sampling_rate_2), (configuration_3, duration_3, sampling_rate_3)]\n",
    "\n",
    "\n",
    "#configuration_1 = (\"MODE\", (disable_1), (disable_2), (...))\n",
    "#configuration_2 = (\"MODE\", (disable_1), (disable_2), (...))\n",
    "#configuration_3 = (\"MODE\", (disable_1), (disable_2), (...))"
   ]
  },
  {
   "attachments": {},
   "cell_type": "markdown",
   "metadata": {},
   "source": [
    "## <span style=\"color:tomato\"> Calculating Power Usage </span>\n",
    "\n",
    "We can calculate the power usage based on the configuration to get an idea of how it's affected by the various settings. Power is measured in milliWatts, where 1 milliWatt is equivalent to 0.001 Joules of energy per second. \n",
    "\n",
    "\n",
    "<span style=\"color:#18BF7D\">Do not modify the following code. Simply run the cell to see the output.</span>"
   ]
  },
  {
   "cell_type": "code",
   "execution_count": null,
   "metadata": {},
   "outputs": [],
   "source": [
    "import matplotlib.pyplot as plt\n",
    "\n",
    "power_1 = ATmega328P.getModePower(ATmega328P, configuration_1)\n",
    "power_2 = ATmega328P.getModePower(ATmega328P, configuration_2)\n",
    "power_3 = ATmega328P.getModePower(ATmega328P, configuration_3)\n",
    "print(\"Config. 1: \", power_1, \"milliWatts\")\n",
    "print(\"Config. 2: \", power_2, \"milliWatts\")\n",
    "print(\"Config. 3: \", power_3, \"milliWatts\")\n",
    "plt.bar(1, power_1, label='Config. 1')\n",
    "plt.bar(2, power_2, label='Config. 2')\n",
    "plt.bar(3, power_3, label='Config. 3')\n",
    "plt.xticks([])\n",
    "plt.ylabel('Power in mW')\n",
    "plt.grid()\n",
    "plt.legend()\n",
    "plt.show()"
   ]
  },
  {
   "attachments": {},
   "cell_type": "markdown",
   "metadata": {},
   "source": [
    "## <span style=\"color:tomato\"> Calculating Data Usage </span>\n",
    "\n",
    "We can calculate the data usage for any configuration to get an idea of how it's affected by the various settings. It's important to note that we are concerned with the data usage based on the sampling rate, not the number of samples being averaged behind the scenes.\n",
    "\n",
    "<span style=\"color:#18BF7D\">Do not modify the following code. Simply run the cell to see the output.</span>"
   ]
  },
  {
   "cell_type": "code",
   "execution_count": null,
   "metadata": {},
   "outputs": [],
   "source": [
    "data_1 = ATmega328P.compute_data(ATmega328P,*configuration_1,sampling_rate_1)\n",
    "data_2 = ATmega328P.compute_data(ATmega328P,*configuration_2,sampling_rate_2)\n",
    "data_3 = ATmega328P.compute_data(ATmega328P,*configuration_3,sampling_rate_3)\n",
    "\n",
    "print(\"Config. 1: \", data_1, \"bytes per second\")\n",
    "print(\"Config. 2: \", data_2, \"bytes per second\")\n",
    "print(\"Config. 3: \", data_3, \"bytes per second\")\n",
    "\n",
    "plt.bar(1, data_1, label='Config. 1')\n",
    "plt.bar(2, data_2, label='Config. 2')\n",
    "plt.bar(3, data_3, label='Config. 3')\n",
    "plt.xticks([])\n",
    "plt.ylabel('Bytes/s')\n",
    "plt.grid()\n",
    "plt.legend()\n",
    "plt.show()"
   ]
  },
  {
   "attachments": {},
   "cell_type": "markdown",
   "metadata": {},
   "source": [
    "## <span style=\"color:tomato\"> Putting It All Together </span>\n",
    "\n",
    "Finally, we'll take a look at the power and data usage of all of our configurations together. The time_step is the distance between data values in the plot, and the duration is how long the sensor is active for in the model. You can change them if you'd like. The duration must be at least as long as the duration of the first configuration.\n",
    "\n",
    "<span style=\"color:#18BF7D\">Change the total_duration variable to see the power and data usage over different periods of time. Run the cells to see the output.</span>"
   ]
  },
  {
   "cell_type": "code",
   "execution_count": null,
   "metadata": {},
   "outputs": [],
   "source": [
    "time_step = 1\n",
    "total_duration = 1000\n",
    "\n",
    "mcu = ATmega328P(time_step, duration, modes_Micro, loop_rate = 20)\n",
    "mcu_power, mcu_data, mcu_time = mcu.runSim()"
   ]
  },
  {
   "attachments": {},
   "cell_type": "markdown",
   "metadata": {},
   "source": [
    "We'll store our generated data for use in the combined power and data model."
   ]
  },
  {
   "cell_type": "code",
   "execution_count": null,
   "metadata": {},
   "outputs": [],
   "source": [
    "%store mcu_power\n",
    "%store mcu_data\n",
    "%store mcu_time"
   ]
  },
  {
   "attachments": {},
   "cell_type": "markdown",
   "metadata": {},
   "source": [
    "[Click here to continue to the next notebook.](1.7%20RF.ipynb)"
   ]
  }
 ],
 "metadata": {
  "kernelspec": {
   "display_name": "Python 3",
   "language": "python",
   "name": "python3"
  },
  "language_info": {
   "codemirror_mode": {
    "name": "ipython",
    "version": 3
   },
   "file_extension": ".py",
   "mimetype": "text/x-python",
   "name": "python",
   "nbconvert_exporter": "python",
   "pygments_lexer": "ipython3",
   "version": "3.11.2"
  },
  "vscode": {
   "interpreter": {
    "hash": "369f2c481f4da34e4445cda3fffd2e751bd1c4d706f27375911949ba6bb62e1c"
   }
  }
 },
 "nbformat": 4,
 "nbformat_minor": 4
}

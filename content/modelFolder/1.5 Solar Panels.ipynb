{
 "cells": [
  {
   "cell_type": "markdown",
   "metadata": {},
   "source": [
    "# `1.5 Solar Panels ☀️`\n",
    "\n",
    "## <span style=\"color:tomato\"> Overview </span>\n",
    "\n",
    "The SM111K06L solar panel provides power to the LunaSat by converting solar energy into electricity. The maximum power output of the solar panel is 146.9 mW. This means that the power usage of the LunaSat cannot exceed 146.9 mW at any time. We will explore putting the power usage of all of our configurations together in the final notebooks of the LPDM.\n",
    "\n",
    "---\n",
    "\n",
    "## <span style=\"color:tomato\"> Configurations </span>\n",
    "\n",
    "The solar panel is a passive component. Thus we do not have to worry about creating configurations for it.\n",
    "\n",
    "---\n",
    "\n",
    "## <span style=\"color:tomato\"> Power Production as a Function of Time </span>\n",
    "\n",
    "It's important to recognize that the day/night cycle on the Moon is very different from Earth's. One day and night on the Moon is 27 days, 7 hours, 43 minutes, and 11.5 seconds. This means that the LunaSats may be in sunlight for long periods of time and in darkness for long periods of time as well.\n",
    "\n",
    "Unlike the Earth, the Moon does not have seasons, and it rotates on a minor tilt of 1.5º as opposed to the 23.4º angle the Earth rotates above. This means that while the time elapsed during day and night on the Moon's equator are roughly equivalent, the sun never rises or sets at the Moon's poles. \n",
    "\n",
    "We can express our vertical location on the Moon in terms of an angular coordinate called latitude. Latitude ranges between 90º and -90º, where 90º corresponds to the north pole, 0º corresponds to the equator, and -90º corresponds to the south pole. In the image below, each blue ring represents a latitudinal coordinate.\n",
    "\n",
    "\n",
    "<img src=\"../modelFolder/images/800px-Moon-map.png\" width=\"400\" height=\"400\">\n",
    "\n",
    "Image taken from [here](en.wikipedia.org/wiki/Selenographic_coordinate_system)\n",
    "\n",
    "Let's ignore the Moon's 1.5º tilt and assume that day and night at the equator are exactly half of the day/night cycle. This means that a lunar day is 328.3584 hours long and a lunar night is 328.3584 hours long. Lunar dawn will be exactly halfway between lunar midnight and lunar noon (164.1792 hours after lunar midnight), as will lunar dusk (492.5376 hours after lunar midnight).\n",
    "\n",
    "The amount of time that the solar panels will be able to receive sunlight is limited to the time between lunar dawn and lunar dusk."
   ]
  },
  {
   "cell_type": "markdown",
   "metadata": {},
   "source": [
    "## <span style=\"color:tomato\"> Power Production as Influenced by Landing Locations </span>\n",
    "\n",
    "The amount of solar energy that can be converted to electricity by the LunaSat is dependent on both the time of day and the location on the Moon at which the LunaSats are located. \n",
    "\n",
    "Solar panels do not always produce the same amount of power. A solar panel's power output is dependent not only on its physical characteristics, but also on the angle of the solar panels relative to a source of light.\n",
    "\n",
    "The amount of power (in mW) the LunaSat's solar panels can produce is given by\n",
    "\n",
    "<span style=\"color:orange\">$$ \\cos(PSI) * SC * SA * CE * 1000 $$</span>\n",
    "\n",
    "where <span style=\"color:orange\">$PSI$</span> is the incidence angle of the lunar surface (and the LunaSat) with respect to the Sun as a function of time and latitude, <span style=\"color:orange\">$SC$</span> is the solar constant, <span style=\"color:orange\">$SA$</span> is the solar panel surface area, and <span style=\"color:orange\">$CE$</span> is the solar panel cell efficiency. The solar constant is $1360$ in units of $\\frac{W}{m^2}$. The surface area of the solar panels is $0.00072$ in units of $m^2$. The solar panel cell efficiency is 25%, or $0.25$. Calculating <span style=\"color:orange\">$PSI$</span> is a bit complicated, but if you're interested in the math, it exists in the source code (SM111K.py). Right now, just know that <span style=\"color:orange\">$PSI$</span> uses the time to find the longitudinal coordinate (our horizontal location on the Moon expressed as an angular coordinate ranging between -180º and 180º), as well as a given latitude to determine the angle of the Moon's surface, and thus the angle of the LunaSat's solar panels. The multiplication by 1000 at the end of the equation is to convert Watts to Milliwatts.\n",
    "\n",
    "---\n",
    "\n",
    "## <span style=\"color:tomato\"> Power Output </span>\n",
    "\n",
    "We can explore seeing how the available power provided by the solar panels changes depending on the latitude of the LunaSat and the time of day. Below we will produce multiple plots looking at the power output, with each plot corresponding to a latitude coordinate. You will be able to change the latitude as well as the number of elapsed hours since lunar midnight. Remember that one lunar day/night cycle is about 656.7167 Earth hours and that latitude is limited to between -90 and 90 degrees.\n",
    "\n",
    "<span style=\"color:#18BF7D\">For the following code, replace 'None' with appropriate values based on what you have learned above. Any lines without a 'None' should not be modified. </span>"
   ]
  },
  {
   "cell_type": "code",
   "execution_count": null,
   "metadata": {},
   "outputs": [],
   "source": [
    "import micropip\n",
    "await micropip.install(\"matplotlib\")\n",
    "import matplotlib.pyplot as plt\n",
    "await micropip.install(\"numpy\")\n",
    "import numpy as np\n",
    "from source.SM111K import SM111K\n",
    "\n",
    "lat = None # Value between -90 and 90\n",
    "hours_since_lunar_midnight = None # Value greater than 0. Recall that the lunar/day cycle is 656.7167 hours\n",
    "\n",
    "solar_panel_model = SM111K(start_time_hrs=0, duration_hrs=hours_since_lunar_midnight, time_step_seconds=30, latitude=lat)\n",
    "solar_panel_model.plot_power_available()"
   ]
  },
  {
   "cell_type": "markdown",
   "metadata": {},
   "source": [
    "---\n",
    "\n",
    "## <span style=\"color:tomato\"> Putting It All Together </span>\n",
    "\n",
    "While the landing location of the LunaSats has not been finalized, regions near the Moon's south pole in particular are being considered. \n",
    "\n",
    "<span style=\"color:#18BF7D\">Revisit the cell above and explore latitudes between -70º and -90º.</span>\n",
    "\n",
    "Another thing to consider is that if the LunaSats are deployed in a crater or another shadowy region, the sunlight they receive will be limited by the topology of the nearby environment. We cannot currently predict this, but it is a risk the LunaSats face.\n",
    "\n",
    "<span style=\"color:#18BF7D\">Run the following cell to store the model results.</span>"
   ]
  },
  {
   "cell_type": "code",
   "execution_count": null,
   "metadata": {},
   "outputs": [],
   "source": [
    "%store solar_panel_model"
   ]
  },
  {
   "cell_type": "markdown",
   "metadata": {},
   "source": [
    "[Click here to continue to the next component, the microcontroller.](1.6%20Microcontroller.ipynb)"
   ]
  }
 ],
 "metadata": {
  "kernelspec": {
   "display_name": "Python 3 (ipykernel)",
   "language": "python",
   "name": "python3"
  },
  "language_info": {
   "codemirror_mode": {
    "name": "ipython",
    "version": 3
   },
   "file_extension": ".py",
   "mimetype": "text/x-python",
   "name": "python",
   "nbconvert_exporter": "python",
   "pygments_lexer": "ipython3",
   "version": "3.8.5"
  },
  "vscode": {
   "interpreter": {
    "hash": "369f2c481f4da34e4445cda3fffd2e751bd1c4d706f27375911949ba6bb62e1c"
   }
  }
 },
 "nbformat": 4,
 "nbformat_minor": 4
}
